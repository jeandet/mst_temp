{
 "cells": [
  {
   "cell_type": "code",
   "execution_count": 136,
   "metadata": {
    "ExecuteTime": {
     "end_time": "2020-09-15T08:08:02.229825Z",
     "start_time": "2020-09-15T08:08:02.223811Z"
    }
   },
   "outputs": [],
   "source": [
    "import xmltodict\n",
    "import subprocess\n",
    "from glob import glob \n",
    "from pathlib import Path\n",
    "from multiprocessing import Pool\n"
   ]
  },
  {
   "cell_type": "code",
   "execution_count": 153,
   "metadata": {
    "ExecuteTime": {
     "end_time": "2020-09-15T08:17:55.549264Z",
     "start_time": "2020-09-15T08:17:55.540071Z"
    }
   },
   "outputs": [],
   "source": [
    "cpp_field_template = \"static constexpr bitfield_t<{reg_type},{start},{stop}> {name} = {{}};\\n\"\n",
    "cpp_field_1bit_template = \"static constexpr bitfield_t<{reg_type},{start}> {name} ={{}};\\n\"\n",
    "\n",
    "cpp_reg_template = \"static constexpr struct {reg_type}:reg_t<{str_type}, base_address+{offset}>\\n\\\n",
    "{{\\\n",
    "{fields}\\\n",
    "using reg_t<{str_type}, base_address+{offset}>::operator=;\\n\\\n",
    "using reg_t<{str_type}, base_address+{offset}>::operator|=;\\n\\\n",
    "using reg_t<{str_type}, base_address+{offset}>::operator&=;\\n\\\n",
    "}}{name}={{}};\\n\"\n",
    "\n",
    "cpp_reg_no_field_template = \"static constexpr reg_t<{str_type}, base_address+{offset}> {name}={{}};\\n\"\n",
    "\n",
    "cpp_periph_template = \"template<uint32_t base_address, int peripheral_index>\\n struct {name}_t\\n\\\n",
    "{{\\n using tag = mst::tags::{tag};\\n static constexpr int index = peripheral_index;\\n static constexpr int address = base_address; \\n {registers} }};\\n\"\n",
    "\n",
    "c_reg_template = \"volatile {reg_type} {name};\\n\"\n",
    "c_periph_template = \"struct {name}_c_t\\n{{\\n {registers} }};\\n\"\n",
    "\n",
    "specific_vector_table_template = \"\"\"\n",
    "typedef void (*vector_table_entry_t)(void);\n",
    "\n",
    "__attribute__ ((section(\".specific_interrupt_vector_table\"))) vector_table_entry_t specific_interrupt_vector_table[ {max_interrupt_count} ] =\n",
    "{{\n",
    "{vector_init}\n",
    "}};\n",
    "\"\"\""
   ]
  },
  {
   "cell_type": "code",
   "execution_count": 154,
   "metadata": {
    "ExecuteTime": {
     "end_time": "2020-09-15T08:17:55.917121Z",
     "start_time": "2020-09-15T08:17:55.856920Z"
    }
   },
   "outputs": [],
   "source": [
    "MAX_INTERRUPT_COUNT = {'cm0': 32, 'cm3': 240, 'cm4': 240, 'cm7': 240}\n",
    "\n",
    "\n",
    "def prnt(item, indent):\n",
    "    if hasattr(item, 'prnt'):\n",
    "        return item.prnt(indent)\n",
    "    elif type(item) is dict:\n",
    "        return \"\".join([\n",
    "            (\" \" * indent) + name + \": \" + prnt(subitem, indent + 2) + \"\\n\"\n",
    "            for name, subitem in item.items()\n",
    "        ])\n",
    "    else:\n",
    "        return str(item)\n",
    "\n",
    "\n",
    "class SVDElement:\n",
    "    def __init__(self, dic, parse_table):\n",
    "        for name, value in dic.items():\n",
    "            if type(name) is str:\n",
    "                self.__dict__[name.replace('@', '')] = parse_table.get(\n",
    "                    name, lambda s, p: str(s))(value, parse_table)\n",
    "\n",
    "    def prnt(self, indent=0):\n",
    "        return \"\".join([\n",
    "            (\" \" * indent) + name + \": \" + prnt(item, indent + 2) + '\\n'\n",
    "            for name, item in self.__dict__.items()\n",
    "        ])\n",
    "\n",
    "    def __repr__(self):\n",
    "        return self.prnt()\n",
    "\n",
    "\n",
    "class Field(SVDElement):\n",
    "    def __init__(self, field, parse_table):\n",
    "        super(Field, self).__init__(field, parse_table)\n",
    "\n",
    "    def to_cpp(self, reg_type):\n",
    "        start = self.bitOffset\n",
    "        stop = start + self.bitWidth - 1\n",
    "        if self.bitWidth == 32:\n",
    "            print(start, stop, self.name)\n",
    "        if start != stop:\n",
    "            return cpp_field_template.format(start=start,\n",
    "                                             stop=stop,\n",
    "                                             reg_type=reg_type,\n",
    "                                             name=self.name)\n",
    "        return cpp_field_1bit_template.format(start=start,\n",
    "                                              reg_type=reg_type,\n",
    "                                              name=self.name)\n",
    "\n",
    "\n",
    "class Interrupt(SVDElement):\n",
    "    def __init__(self, interrupt, parse_table):\n",
    "        super(Interrupt, self).__init__(interrupt, parse_table)\n",
    "\n",
    "    def __eq__(self, other):\n",
    "        return self.name == other.name\n",
    "\n",
    "\n",
    "class Cpu(SVDElement):\n",
    "    def __init__(self, cpu, parse_table):\n",
    "        super(Cpu, self).__init__(cpu, parse_table)\n",
    "\n",
    "    def __eq__(self, other):\n",
    "        return self.name == other.name\n",
    "\n",
    "\n",
    "class Register(SVDElement):\n",
    "    def __init__(self, reg, parse_table):\n",
    "        super(Register, self).__init__(reg, parse_table)\n",
    "\n",
    "    def __eq__(self, other):\n",
    "        return self.name == other.name\n",
    "\n",
    "    def to_cpp(self):\n",
    "        name = self.name\n",
    "        reg_type = self.name + \"_t\"\n",
    "        offset = self.addressOffset\n",
    "        if self.size == 32:\n",
    "            str_type = 'uint32_t'\n",
    "        elif self.size == 16:\n",
    "            str_type = 'uint16_t'\n",
    "        if len(self.fields) == 1 and next(iter(\n",
    "                self.fields.values())).bitWidth == self.size:\n",
    "            return cpp_reg_no_field_template.format(str_type=str_type,\n",
    "                                                    offset=offset,\n",
    "                                                    name=name)\n",
    "        fields = \"\".join(\n",
    "            [bitfield.to_cpp(reg_type) for bitfield in self.fields.values()])\n",
    "        return cpp_reg_template.format(reg_type=reg_type,\n",
    "                                       str_type=str_type,\n",
    "                                       offset=offset,\n",
    "                                       name=name,\n",
    "                                       fields=fields)\n",
    "\n",
    "    def to_c(self):\n",
    "        name = self.name\n",
    "        offset = self.addressOffset\n",
    "        if self.size == 32:\n",
    "            str_type = 'uint32_t'\n",
    "        elif self.size == 16:\n",
    "            str_type = 'uint16_t'\n",
    "        return c_reg_template.format(reg_type=str_type, name=name)\n",
    "\n",
    "\n",
    "class Peripheral(SVDElement):\n",
    "    def __init__(self, periph, parse_table):\n",
    "        super(Peripheral, self).__init__(periph, parse_table)\n",
    "\n",
    "    def __eq__(self, other):\n",
    "        return self.registers.keys() == other.registers.keys()\n",
    "\n",
    "    def to_cpp(self, tag, name=None):\n",
    "        if not name:\n",
    "            name = self.name\n",
    "        registers = \"\".join(\n",
    "            [register.to_cpp() for register in self.registers.values()])\n",
    "        return cpp_periph_template.format(name=name,\n",
    "                                          registers=registers,\n",
    "                                          tag=tag)\n",
    "\n",
    "    def to_c(self, name=None):\n",
    "        if not name:\n",
    "            name = self.name\n",
    "        offset = 0\n",
    "        registers = \"\"\n",
    "        for register in self.registers.values():\n",
    "            while offset < register.addressOffset:\n",
    "                registers += c_reg_template.format(reg_type=\"uint32_t\",\n",
    "                                                   name=\"__dummy\" +\n",
    "                                                   str(offset))\n",
    "                offset += 4\n",
    "            registers += register.to_c()\n",
    "            offset += int(register.size / 8)\n",
    "        return c_periph_template.format(name=name, registers=registers)\n",
    "\n",
    "\n",
    "class Device(SVDElement):\n",
    "    def __init__(self, dev, parse_table):\n",
    "        super(Device, self).__init__(dev, parse_table)\n",
    "\n",
    "\n",
    "_ctors_parse_table = {\n",
    "    'field': Field,\n",
    "    'register': Register,\n",
    "    'peripheral': Peripheral,\n",
    "}\n",
    "\n",
    "\n",
    "def listify(item_or_list):\n",
    "    if type(item_or_list) is list:\n",
    "        return item_or_list\n",
    "    else:\n",
    "        return [item_or_list]\n",
    "\n",
    "\n",
    "def ctor(key, dic, parse_table):\n",
    "    return _ctors_parse_table[key](dic[key], parse_table)\n",
    "\n",
    "\n",
    "def clang_format(fname: str):\n",
    "    subprocess.run([\"clang-format\", \"-i\", '-style=file', fname])\n",
    "\n",
    "\n",
    "_parse_table = {\n",
    "    'addressOffset': lambda s, p: int(s, 16),\n",
    "    'bitOffset': lambda s, p: int(s),\n",
    "    'bitWidth': lambda s, p: int(s),\n",
    "    'size': lambda s, p: int(s, 16),\n",
    "    'resetValue': lambda s, p: int(s, 16),\n",
    "    'cpu': lambda s, p: Cpu(s, p),\n",
    "    'fields': lambda item, parse_table: {\n",
    "        field['name']: Field(field, parse_table)\n",
    "        for field in listify(item[\"field\"])\n",
    "    },\n",
    "    'registers': lambda item, parse_table: {\n",
    "        register['name']: Register(register, parse_table)\n",
    "        for register in listify(item[\"register\"])\n",
    "    },\n",
    "    'peripherals': lambda item, parse_table: {\n",
    "        peripheral['name']: Peripheral(peripheral, parse_table)\n",
    "        for peripheral in listify(item[\"peripheral\"])\n",
    "    },\n",
    "    'interrupt': lambda item, parse_table: {\n",
    "        interrupt['name']: Interrupt(interrupt, parse_table)\n",
    "        for interrupt in listify(item)\n",
    "    },\n",
    "}\n",
    "\n",
    "\n",
    "def make_specific_interrupt_vector(path: str, device: Device):\n",
    "    interrupts = sorted({\n",
    "        int(interrupt.value): name\n",
    "        for periph in device.peripherals.values()\n",
    "        if hasattr(periph, 'interrupt')\n",
    "        for name, interrupt in periph.interrupt.items()\n",
    "    }.items())\n",
    "\n",
    "    vector_init = \",\\n\".join(\n",
    "        [f'\\t[{key}] __mst__isr_{name}' for key, name in interrupts])\n",
    "    fname = f'{path}/specific_interrupt_vector_table.c'\n",
    "    with open(fname, 'w') as f:\n",
    "        f.write(\n",
    "            specific_vector_table_template.format(\n",
    "                max_interrupt_count=MAX_INTERRUPT_COUNT[\n",
    "                    device.cpu.name.lower()],\n",
    "                vector_init=vector_init))\n",
    "        clang_format(fname)\n",
    "\n",
    "\n",
    "#clang-format -i -style=file  gpio-regs.hpp\n",
    "def make_header(path: str, peripheral: Peripheral, tag, name=None):\n",
    "    if not name:\n",
    "        name = peripheral.name\n",
    "    cpp = peripheral.to_cpp(tag, name)\n",
    "    c = peripheral.to_c(name)\n",
    "    fname = f'{path}/{name.lower()}-regs.hpp'\n",
    "    with open(fname, 'w') as f:\n",
    "        f.write(f\"\"\"\n",
    "    #pragma once\n",
    "    #include <stdint.h>\n",
    "    #include \"mst/register.hpp\"\n",
    "    #include \"mst/peripherals_tags.hpp\"\n",
    "\n",
    "\n",
    "    using namespace mst::registers;\n",
    "    namespace mst::stm32::{name.lower()} {{\n",
    "    {cpp}\n",
    "\n",
    "    {c}\n",
    "    }}\n",
    "        \"\"\")\n",
    "\n",
    "    clang_format(fname)\n",
    "\n",
    "\n",
    "def load_svd(path: str):\n",
    "    with open(path, 'r') as xf:\n",
    "        desc = xmltodict.parse(xf.read())\n",
    "        d = Device(desc['device'], _parse_table)\n",
    "        for p in d.peripherals.values():\n",
    "            if hasattr(p, 'derivedFrom'):\n",
    "                p.__dict__['registers'] = d.peripherals[\n",
    "                    p.derivedFrom].registers\n",
    "        return d\n",
    "\n",
    "\n",
    "def generate_all_sources(svd: str):\n",
    "    device = load_svd(svd)\n",
    "    path = device.description\n",
    "    Path(path).mkdir(parents=True, exist_ok=True)\n",
    "    make_specific_interrupt_vector(path, device)\n",
    "    make_header(path, d.peripherals[\"RCC\"], \"no_tag\")\n",
    "    make_header(path, d.peripherals[\"GPIOA\"], \"gpio_tag\", \"gpio\")\n",
    "    make_header(path, d.peripherals[\"SDMMC1\"], \"sdmmc_tag\", \"sdmmc\")\n",
    "    make_header(path, d.peripherals[\"SPI1\"], \"spi_tag\", \"spi\")\n",
    "    make_header(path, d.peripherals[\"PWR\"], \"pwr_tag\", \"pwr\")\n",
    "    make_header(path, d.peripherals[\"SCB\"], \"scb_tag\", \"scb\")\n",
    "    make_header(path, d.peripherals[\"DMA1\"], \"dma_tag\", \"dma\")\n",
    "    make_header(path, d.peripherals[\"FLASH\"], \"flash_tag\", \"flash\")"
   ]
  },
  {
   "cell_type": "code",
   "execution_count": 155,
   "metadata": {
    "ExecuteTime": {
     "end_time": "2020-09-15T08:18:02.312023Z",
     "start_time": "2020-09-15T08:17:57.032361Z"
    }
   },
   "outputs": [],
   "source": [
    "SVDs = glob('../../cpu/stm32/SVDs/**/*.svd', recursive=True)\n",
    "with Pool(10) as p:\n",
    "    p.map(generate_all_sources,SVDs)"
   ]
  },
  {
   "cell_type": "code",
   "execution_count": 125,
   "metadata": {
    "ExecuteTime": {
     "end_time": "2020-09-15T07:57:10.401666Z",
     "start_time": "2020-09-15T07:57:10.016258Z"
    }
   },
   "outputs": [],
   "source": [
    "\n",
    "d=load_svd(\"../../cpu/stm32/SVDs/STM32F7_svd/STM32F7_svd_V1.4/STM32F7x6.svd\")"
   ]
  },
  {
   "cell_type": "code",
   "execution_count": 6,
   "metadata": {
    "ExecuteTime": {
     "end_time": "2020-09-14T21:15:13.243140Z",
     "start_time": "2020-09-14T21:15:13.230063Z"
    }
   },
   "outputs": [
    {
     "data": {
      "text/plain": [
       "False"
      ]
     },
     "execution_count": 6,
     "metadata": {},
     "output_type": "execute_result"
    }
   ],
   "source": [
    "def all_same(device, periph_name):\n",
    "    periphs = [p for n,p in device.peripherals.items() if periph_name in n]\n",
    "    return all([[periph]*len(periphs)==periphs for periph in periphs])\n",
    "\n",
    "all_same(d,'GPIO')\n",
    "all_same(d,'SPI')"
   ]
  },
  {
   "cell_type": "code",
   "execution_count": 132,
   "metadata": {
    "ExecuteTime": {
     "end_time": "2020-09-15T07:59:58.920706Z",
     "start_time": "2020-09-15T07:59:58.912369Z"
    }
   },
   "outputs": [
    {
     "data": {
      "text/plain": [
       "'STM32F7x6'"
      ]
     },
     "execution_count": 132,
     "metadata": {},
     "output_type": "execute_result"
    }
   ],
   "source": [
    "d.description"
   ]
  },
  {
   "cell_type": "code",
   "execution_count": 117,
   "metadata": {
    "ExecuteTime": {
     "end_time": "2020-09-15T07:48:50.452568Z",
     "start_time": "2020-09-15T07:48:50.439842Z"
    }
   },
   "outputs": [],
   "source": []
  },
  {
   "cell_type": "code",
   "execution_count": 118,
   "metadata": {
    "ExecuteTime": {
     "end_time": "2020-09-15T07:48:51.435045Z",
     "start_time": "2020-09-15T07:48:51.371574Z"
    }
   },
   "outputs": [],
   "source": [
    "make_specific_interrupt_vector('.',d)"
   ]
  },
  {
   "cell_type": "code",
   "execution_count": 122,
   "metadata": {
    "ExecuteTime": {
     "end_time": "2020-09-15T07:55:40.591320Z",
     "start_time": "2020-09-15T07:55:40.580111Z"
    }
   },
   "outputs": [],
   "source": []
  },
  {
   "cell_type": "code",
   "execution_count": 123,
   "metadata": {
    "ExecuteTime": {
     "end_time": "2020-09-15T07:55:41.308922Z",
     "start_time": "2020-09-15T07:55:40.999426Z"
    }
   },
   "outputs": [],
   "source": [
    "make_header('.',d.peripherals[\"RCC\"], \"no_tag\")\n",
    "make_header('.',d.peripherals[\"GPIOA\"],\"gpio_tag\",\"gpio\")\n",
    "make_header('.',d.peripherals[\"SDMMC1\"],\"sdmmc_tag\", \"sdmmc\")\n",
    "make_header('.',d.peripherals[\"SPI1\"],\"spi_tag\", \"spi\")\n",
    "make_header('.',d.peripherals[\"PWR\"],\"pwr_tag\", \"pwr\")\n",
    "make_header('.',d.peripherals[\"SCB\"],\"scb_tag\", \"scb\")\n",
    "make_header('.',d.peripherals[\"DMA1\"],\"dma_tag\", \"dma\")\n",
    "make_header('.',d.peripherals[\"FLASH\"],\"flash_tag\", \"flash\")"
   ]
  },
  {
   "cell_type": "code",
   "execution_count": null,
   "metadata": {
    "ExecuteTime": {
     "end_time": "2019-11-21T14:47:34.161422Z",
     "start_time": "2019-11-21T14:47:34.155278Z"
    },
    "scrolled": false
   },
   "outputs": [],
   "source": [
    "rcc = d.peripherals[\"RCC\"].to_cpp()\n",
    "rcc_c = d.peripherals[\"RCC\"].to_c()\n",
    "with open('rcc-regs.hpp', 'w') as f:\n",
    "    f.write(f\"\"\"\n",
    "#pragma once\n",
    "#include <stdint.h>\n",
    "#include \"mst/register.hpp\"\n",
    "#include \"mst/peripherals_tags.hpp\"\n",
    "\n",
    "using namespace mst::registers;\n",
    "namespace mst::stm32::rcc {{\n",
    "{rcc}\n",
    "\n",
    "{rcc_c }\n",
    "}}\n",
    "    \"\"\")"
   ]
  },
  {
   "cell_type": "code",
   "execution_count": null,
   "metadata": {
    "ExecuteTime": {
     "end_time": "2019-11-21T14:47:34.993898Z",
     "start_time": "2019-11-21T14:47:34.988284Z"
    }
   },
   "outputs": [],
   "source": [
    "gpio = d.peripherals[\"GPIOA\"].to_cpp(\"GPIO\")\n",
    "gpio_c = d.peripherals[\"GPIOA\"].to_c()\n",
    "with open('gpio-regs.hpp', 'w') as f:\n",
    "    f.write(f\"\"\"\n",
    "#pragma once\n",
    "#include <stdint.h>\n",
    "#include \"../register.hpp\"\n",
    "\n",
    "\n",
    "using namespace mst::registers;\n",
    "namespace mst::stm32::gpio {{\n",
    "{gpio}\n",
    "\n",
    "{gpio_c }\n",
    "}}\n",
    "    \"\"\")"
   ]
  },
  {
   "cell_type": "code",
   "execution_count": null,
   "metadata": {
    "ExecuteTime": {
     "end_time": "2019-11-21T18:09:31.792355Z",
     "start_time": "2019-11-21T18:09:31.787376Z"
    }
   },
   "outputs": [],
   "source": [
    "d.peripherals.keys()"
   ]
  },
  {
   "cell_type": "code",
   "execution_count": null,
   "metadata": {
    "ExecuteTime": {
     "end_time": "2019-11-23T18:09:56.400791Z",
     "start_time": "2019-11-23T18:09:56.397222Z"
    }
   },
   "outputs": [],
   "source": [
    "sd = d.peripherals[\"SDMMC1\"]"
   ]
  },
  {
   "cell_type": "code",
   "execution_count": 160,
   "metadata": {
    "ExecuteTime": {
     "end_time": "2020-09-15T08:22:48.256446Z",
     "start_time": "2020-09-15T08:22:48.253724Z"
    }
   },
   "outputs": [
    {
     "data": {
      "text/plain": [
       "dict_keys(['FSMC', 'PWR', 'RCC', 'GPIOA', 'GPIOB', 'GPIOC', 'GPIOD', 'GPIOE', 'GPIOF', 'GPIOG', 'AFIO', 'EXTI', 'DMA1', 'DMA2', 'RTC', 'BKP', 'IWDG', 'WWDG', 'TIM1', 'TIM2', 'TIM3', 'TIM4', 'TIM5', 'TIM12', 'TIM13', 'TIM14', 'TIM6', 'TIM7', 'I2C1', 'I2C2', 'SPI1', 'SPI2', 'SPI3', 'USART1', 'USART2', 'USART3', 'ADC1', 'DAC', 'DBG', 'UART4', 'UART5', 'CRC', 'FLASH', 'TIM15', 'TIM16', 'TIM17', 'CEC', 'NVIC', 'MPU', 'SCB_ACTRL', 'NVIC_STIR', 'SCB', 'STK'])"
      ]
     },
     "execution_count": 160,
     "metadata": {},
     "output_type": "execute_result"
    }
   ],
   "source": [
    "device.peripherals.keys()"
   ]
  }
 ],
 "metadata": {
  "kernelspec": {
   "display_name": "Python 3",
   "language": "python",
   "name": "python3"
  },
  "language_info": {
   "codemirror_mode": {
    "name": "ipython",
    "version": 3
   },
   "file_extension": ".py",
   "mimetype": "text/x-python",
   "name": "python",
   "nbconvert_exporter": "python",
   "pygments_lexer": "ipython3",
   "version": "3.8.5"
  },
  "toc": {
   "base_numbering": 1,
   "nav_menu": {},
   "number_sections": true,
   "sideBar": true,
   "skip_h1_title": false,
   "title_cell": "Table of Contents",
   "title_sidebar": "Contents",
   "toc_cell": false,
   "toc_position": {},
   "toc_section_display": true,
   "toc_window_display": false
  },
  "varInspector": {
   "cols": {
    "lenName": 16,
    "lenType": 16,
    "lenVar": 40
   },
   "kernels_config": {
    "python": {
     "delete_cmd_postfix": "",
     "delete_cmd_prefix": "del ",
     "library": "var_list.py",
     "varRefreshCmd": "print(var_dic_list())"
    },
    "r": {
     "delete_cmd_postfix": ") ",
     "delete_cmd_prefix": "rm(",
     "library": "var_list.r",
     "varRefreshCmd": "cat(var_dic_list()) "
    }
   },
   "types_to_exclude": [
    "module",
    "function",
    "builtin_function_or_method",
    "instance",
    "_Feature"
   ],
   "window_display": false
  }
 },
 "nbformat": 4,
 "nbformat_minor": 2
}
