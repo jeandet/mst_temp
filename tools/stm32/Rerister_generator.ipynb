{
 "cells": [
  {
   "cell_type": "code",
   "execution_count": 1,
   "metadata": {
    "ExecuteTime": {
     "end_time": "2019-12-01T16:09:55.005916Z",
     "start_time": "2019-12-01T16:09:54.987309Z"
    }
   },
   "outputs": [],
   "source": [
    "import xmltodict\n",
    "import subprocess"
   ]
  },
  {
   "cell_type": "code",
   "execution_count": 2,
   "metadata": {
    "ExecuteTime": {
     "end_time": "2019-12-01T16:09:55.855811Z",
     "start_time": "2019-12-01T16:09:55.401103Z"
    }
   },
   "outputs": [],
   "source": [
    "with open(\"./STM32F7_svd/STM32F7_svd_V1.4/STM32F7x6.svd\",'r') as xf:\n",
    "    desc = xmltodict.parse(xf.read())"
   ]
  },
  {
   "cell_type": "code",
   "execution_count": 3,
   "metadata": {
    "ExecuteTime": {
     "end_time": "2019-12-01T16:09:55.968736Z",
     "start_time": "2019-12-01T16:09:55.965192Z"
    }
   },
   "outputs": [],
   "source": [
    "cpp_field_template = \"static constexpr bitfield_t<{reg_type},{start},{stop}> {name} = {{}};\\n\"\n",
    "cpp_field_1bit_template = \"static constexpr bitfield_t<{reg_type},{start}> {name} ={{}};\\n\"\n",
    "\n",
    "cpp_reg_template = \"static constexpr struct {reg_type}:reg_t<{str_type}, base_address+{offset}>\\n\\\n",
    "{{\\\n",
    "{fields}\\\n",
    "using reg_t<{str_type}, base_address+{offset}>::operator=;\\n\\\n",
    "using reg_t<{str_type}, base_address+{offset}>::operator|=;\\n\\\n",
    "using reg_t<{str_type}, base_address+{offset}>::operator&=;\\n\\\n",
    "}}{name}={{}};\\n\"\n",
    "cpp_reg_no_field_template = \"static constexpr reg_t<{str_type}, base_address+{offset}> {name}={{}};\\n\"\n",
    "\n",
    "cpp_periph_template = \"template<uint32_t base_address, int peripheral_index>\\n struct {name}_t\\n\\\n",
    "{{\\n using tag = mst::tags::{tag};\\n static constexpr int index = peripheral_index;\\n static constexpr int address = base_address; \\n {registers} }};\\n\"\n",
    "\n",
    "c_reg_template = \"volatile {reg_type} {name};\\n\"\n",
    "c_periph_template = \"struct {name}_c_t\\n{{\\n {registers} }};\\n\"\n",
    "\n"
   ]
  },
  {
   "cell_type": "code",
   "execution_count": 4,
   "metadata": {
    "ExecuteTime": {
     "end_time": "2019-12-01T16:09:56.182167Z",
     "start_time": "2019-12-01T16:09:56.081892Z"
    }
   },
   "outputs": [],
   "source": [
    "def prnt(item, indent):\n",
    "    if hasattr(item,'prnt'):\n",
    "        return item.prnt(indent)\n",
    "    elif type(item) is dict:\n",
    "        return\"\".join([\n",
    "            (\" \"*indent) +name+\": \"+prnt(subitem, indent+2)+\"\\n\" for name,subitem in item.items()\n",
    "        ])\n",
    "    else:\n",
    "        return str(item)\n",
    "        \n",
    "\n",
    "\n",
    "class SVDElement:\n",
    "    def __init__(self, dic, parse_table):\n",
    "        for name,value in dic.items():\n",
    "            if type(name) is str:\n",
    "                self.__dict__[name.replace('@','')]=parse_table.get(name, lambda s,p : str(s) )(value, parse_table)\n",
    "    \n",
    "    def prnt(self, indent=0):\n",
    "        return\"\".join([(\" \"*indent) +name+\": \"+prnt(item, indent+2)+'\\n' for name,item in self.__dict__.items()])\n",
    "        \n",
    "    def __repr__(self):\n",
    "        return self.prnt()\n",
    "\n",
    "class Field(SVDElement):\n",
    "    def __init__(self, field, parse_table):\n",
    "        super(Field, self).__init__(field, parse_table)\n",
    "        \n",
    "    def to_cpp(self, reg_type):\n",
    "        start = self.bitOffset\n",
    "        stop = start + self.bitWidth - 1\n",
    "        if self.bitWidth == 32:\n",
    "            print(start,stop, self.name)\n",
    "        if start != stop:\n",
    "            return cpp_field_template.format(start = start, stop=stop,reg_type=reg_type, name=self.name)\n",
    "        return cpp_field_1bit_template.format(start = start, reg_type=reg_type, name=self.name)\n",
    "\n",
    "class Register(SVDElement):\n",
    "    def __init__(self, reg, parse_table):\n",
    "        super(Register, self).__init__(reg, parse_table)\n",
    "        \n",
    "    def __eq__(self, other):\n",
    "        return self.name == other.name\n",
    "    \n",
    "    def to_cpp(self):\n",
    "        name = self.name\n",
    "        reg_type = self.name+\"_t\"\n",
    "        offset = self.addressOffset\n",
    "        if self.size == 32:\n",
    "            str_type = 'uint32_t'\n",
    "        elif self.size == 16:\n",
    "            str_type = 'uint16_t'\n",
    "        if len(self.fields)==1 and next(iter(self.fields.values())).bitWidth == self.size:\n",
    "            return cpp_reg_no_field_template.format(str_type=str_type,offset=offset, name=name)\n",
    "        fields = \"\".join([bitfield.to_cpp(reg_type) for bitfield in self.fields.values()])\n",
    "        return cpp_reg_template.format(reg_type=reg_type, str_type=str_type,offset=offset, name=name, fields=fields)\n",
    "    \n",
    "    def to_c(self):\n",
    "        name = self.name\n",
    "        offset = self.addressOffset\n",
    "        if self.size == 32:\n",
    "            str_type = 'uint32_t'\n",
    "        elif self.size == 16:\n",
    "            str_type = 'uint16_t'\n",
    "        return c_reg_template.format(reg_type=str_type,name=name)\n",
    "        \n",
    "class Peripheral(SVDElement):\n",
    "    def __init__(self,periph, parse_table):\n",
    "        super(Peripheral, self).__init__(periph, parse_table)\n",
    "    def __eq__(self, other):\n",
    "        return self.registers.keys() == other.registers.keys()\n",
    "    \n",
    "    def to_cpp(self, tag, name=None):\n",
    "        if not name:\n",
    "            name=self.name\n",
    "        registers=\"\".join([register.to_cpp() for register in self.registers.values()])\n",
    "        return cpp_periph_template.format(name=name, registers=registers, tag=tag)\n",
    "            \n",
    "    def to_c(self, name=None):\n",
    "        if not name:\n",
    "            name=self.name\n",
    "        offset = 0\n",
    "        registers = \"\"\n",
    "        for register in self.registers.values():\n",
    "            while offset < register.addressOffset:\n",
    "                registers += c_reg_template.format(reg_type=\"uint32_t\",name=\"__dummy\"+str(offset))\n",
    "                offset += 4\n",
    "            registers += register.to_c()\n",
    "            offset += int(register.size/8)\n",
    "        return c_periph_template.format(name = name, registers=registers)\n",
    "        \n",
    "        \n",
    "class Device(SVDElement):\n",
    "    def __init__(self,dev , parse_table):\n",
    "        super(Device, self).__init__(dev, parse_table)\n",
    "        \n",
    "_ctors_parse_table={\n",
    "    'field': Field,\n",
    "    'register':Register,\n",
    "    'peripheral':Peripheral,\n",
    "}\n",
    "\n",
    "def listify(item_or_list):\n",
    "    if type(item_or_list) is list:\n",
    "        return item_or_list\n",
    "    else:\n",
    "        return [item_or_list]\n",
    "\n",
    "def ctor(key, dic, parse_table):\n",
    "    return _ctors_parse_table[key](dic[key], parse_table)\n",
    "\n",
    "_parse_table={\n",
    "    'addressOffset':lambda s,p : int(s,16),\n",
    "    'bitOffset':lambda s,p : int(s),\n",
    "    'bitWidth':lambda s,p : int(s),\n",
    "    'size': lambda s,p  : int(s,16),\n",
    "    'resetValue': lambda s,p : int(s,16),\n",
    "    'fields': lambda item,parse_table : { field['name']:Field(field,parse_table) for field in listify(item[\"field\"])},\n",
    "    'registers': lambda item,parse_table : { register['name']:Register(register,parse_table) for register in listify(item[\"register\"])},\n",
    "    'peripherals': lambda item,parse_table : { peripheral['name']:Peripheral(peripheral,parse_table) for peripheral in listify(item[\"peripheral\"])},\n",
    "}\n",
    "\n",
    "d = Device(desc['device'],_parse_table)\n",
    "for p in d.peripherals.values():\n",
    "    if hasattr(p,'derivedFrom'):\n",
    "        p.__dict__['registers']=d.peripherals[p.derivedFrom].registers"
   ]
  },
  {
   "cell_type": "code",
   "execution_count": 5,
   "metadata": {
    "ExecuteTime": {
     "end_time": "2019-12-01T16:09:56.600236Z",
     "start_time": "2019-12-01T16:09:56.589026Z"
    }
   },
   "outputs": [
    {
     "data": {
      "text/plain": [
       "False"
      ]
     },
     "execution_count": 5,
     "metadata": {},
     "output_type": "execute_result"
    }
   ],
   "source": [
    "def all_same(device, periph_name):\n",
    "    periphs = [p for n,p in device.peripherals.items() if periph_name in n]\n",
    "    return all([[periph]*len(periphs)==periphs for periph in periphs])\n",
    "\n",
    "all_same(d,'GPIO')\n",
    "all_same(d,'SPI')"
   ]
  },
  {
   "cell_type": "code",
   "execution_count": 6,
   "metadata": {
    "ExecuteTime": {
     "end_time": "2019-12-01T16:09:57.046468Z",
     "start_time": "2019-12-01T16:09:57.041260Z"
    }
   },
   "outputs": [
    {
     "data": {
      "text/plain": [
       "dict_keys(['RNG', 'HASH', 'CRYP', 'DCMI', 'FMC', 'DBG', 'DMA2', 'DMA1', 'RCC', 'GPIOD', 'GPIOC', 'GPIOK', 'GPIOJ', 'GPIOI', 'GPIOH', 'GPIOG', 'GPIOF', 'GPIOE', 'GPIOB', 'GPIOA', 'SYSCFG', 'SPI1', 'SPI3', 'SPI4', 'SPI5', 'SPI6', 'SPI2', 'ADC1', 'ADC2', 'ADC3', 'DAC', 'PWR', 'IWDG', 'WWDG', 'C_ADC', 'TIM1', 'TIM8', 'TIM2', 'TIM3', 'TIM4', 'TIM5', 'TIM9', 'TIM12', 'TIM10', 'TIM11', 'TIM13', 'TIM14', 'TIM6', 'TIM7', 'Ethernet_MAC', 'Ethernet_MMC', 'Ethernet_PTP', 'Ethernet_DMA', 'CRC', 'CAN1', 'CAN2', 'FLASH', 'EXTI', 'LTDC', 'SAI1', 'SAI2', 'DMA2D', 'QUADSPI', 'CEC', 'SPDIF_RX', 'SDMMC1', 'LPTIM1', 'I2C1', 'I2C2', 'I2C3', 'I2C4', 'RTC', 'USART6', 'USART1', 'USART3', 'USART2', 'UART5', 'UART4', 'UART8', 'UART7', 'OTG_FS_GLOBAL', 'OTG_FS_HOST', 'OTG_FS_DEVICE', 'OTG_FS_PWRCLK', 'OTG_HS_GLOBAL', 'OTG_HS_HOST', 'OTG_HS_DEVICE', 'OTG_HS_PWRCLK', 'NVIC', 'MPU', 'STK', 'NVIC_STIR', 'FPU_CPACR', 'SCB_ACTRL', 'FPU', 'SCB', 'PF', 'AC'])"
      ]
     },
     "execution_count": 6,
     "metadata": {},
     "output_type": "execute_result"
    }
   ],
   "source": [
    "d.peripherals.keys()"
   ]
  },
  {
   "cell_type": "code",
   "execution_count": 7,
   "metadata": {
    "ExecuteTime": {
     "end_time": "2019-12-01T16:09:57.776282Z",
     "start_time": "2019-12-01T16:09:57.769338Z"
    }
   },
   "outputs": [],
   "source": [
    "#clang-format -i -style=file  gpio-regs.hpp \n",
    "def make_header(peripheral, tag, name=None):\n",
    "    if not name:\n",
    "        name = peripheral.name\n",
    "    cpp = peripheral.to_cpp(tag, name)\n",
    "    c   = peripheral.to_c(name)\n",
    "    fname = f'{name.lower()}-regs.hpp'\n",
    "    with open(fname, 'w') as f:\n",
    "        f.write(f\"\"\"\n",
    "    #pragma once\n",
    "    #include <stdint.h>\n",
    "    #include \"../register.hpp\"\n",
    "    #include \"../peripherals_tags.hpp\"\n",
    "\n",
    "\n",
    "    using namespace mst::registers;\n",
    "    namespace mst::stm32::{name.lower()} {{\n",
    "    {cpp}\n",
    "\n",
    "    {c}\n",
    "    }}\n",
    "        \"\"\")\n",
    "    \n",
    "    subprocess.run([\"clang-format\", \"-i\", '-style=file', fname])"
   ]
  },
  {
   "cell_type": "code",
   "execution_count": 8,
   "metadata": {
    "ExecuteTime": {
     "end_time": "2019-12-01T20:50:13.168018Z",
     "start_time": "2019-12-01T20:50:12.842327Z"
    }
   },
   "outputs": [],
   "source": [
    "make_header(d.peripherals[\"RCC\"], \"no_tag\")\n",
    "make_header(d.peripherals[\"GPIOA\"],\"gpio_tag\",\"gpio\")\n",
    "make_header(d.peripherals[\"SDMMC1\"],\"sdmmc_tag\", \"sdmmc\")\n",
    "make_header(d.peripherals[\"SPI1\"],\"spi_tag\", \"spi\")\n",
    "make_header(d.peripherals[\"PWR\"],\"pwr_tag\", \"pwr\")\n",
    "make_header(d.peripherals[\"SCB\"],\"scb_tag\", \"scb\")\n",
    "make_header(d.peripherals[\"DMA1\"],\"dma_tag\", \"dma\")\n",
    "make_header(d.peripherals[\"FLASH\"],\"flash_tag\", \"flash\")"
   ]
  },
  {
   "cell_type": "code",
   "execution_count": null,
   "metadata": {
    "ExecuteTime": {
     "end_time": "2019-11-21T14:47:34.161422Z",
     "start_time": "2019-11-21T14:47:34.155278Z"
    },
    "scrolled": false
   },
   "outputs": [],
   "source": [
    "rcc = d.peripherals[\"RCC\"].to_cpp()\n",
    "rcc_c = d.peripherals[\"RCC\"].to_c()\n",
    "with open('rcc-regs.hpp', 'w') as f:\n",
    "    f.write(f\"\"\"\n",
    "#pragma once\n",
    "#include <stdint.h>\n",
    "#include \"../register.hpp\"\n",
    "#include \"../peripherals_tags.hpp\"\n",
    "\n",
    "using namespace mst::registers;\n",
    "namespace mst::stm32::rcc {{\n",
    "{rcc}\n",
    "\n",
    "{rcc_c }\n",
    "}}\n",
    "    \"\"\")"
   ]
  },
  {
   "cell_type": "code",
   "execution_count": null,
   "metadata": {
    "ExecuteTime": {
     "end_time": "2019-11-21T14:47:34.993898Z",
     "start_time": "2019-11-21T14:47:34.988284Z"
    }
   },
   "outputs": [],
   "source": [
    "gpio = d.peripherals[\"GPIOA\"].to_cpp(\"GPIO\")\n",
    "gpio_c = d.peripherals[\"GPIOA\"].to_c()\n",
    "with open('gpio-regs.hpp', 'w') as f:\n",
    "    f.write(f\"\"\"\n",
    "#pragma once\n",
    "#include <stdint.h>\n",
    "#include \"../register.hpp\"\n",
    "\n",
    "\n",
    "using namespace mst::registers;\n",
    "namespace mst::stm32::gpio {{\n",
    "{gpio}\n",
    "\n",
    "{gpio_c }\n",
    "}}\n",
    "    \"\"\")"
   ]
  },
  {
   "cell_type": "code",
   "execution_count": null,
   "metadata": {
    "ExecuteTime": {
     "end_time": "2019-11-21T18:09:31.792355Z",
     "start_time": "2019-11-21T18:09:31.787376Z"
    }
   },
   "outputs": [],
   "source": [
    "d.peripherals.keys()"
   ]
  },
  {
   "cell_type": "code",
   "execution_count": null,
   "metadata": {
    "ExecuteTime": {
     "end_time": "2019-11-23T18:09:56.400791Z",
     "start_time": "2019-11-23T18:09:56.397222Z"
    }
   },
   "outputs": [],
   "source": [
    "sd = d.peripherals[\"SDMMC1\"]"
   ]
  },
  {
   "cell_type": "code",
   "execution_count": null,
   "metadata": {
    "ExecuteTime": {
     "end_time": "2019-11-23T18:11:48.909127Z",
     "start_time": "2019-11-23T18:11:48.903763Z"
    }
   },
   "outputs": [],
   "source": [
    "sd.registers[\"ARG\"].fields[\"CMDARG\"].bitOffset"
   ]
  }
 ],
 "metadata": {
  "kernelspec": {
   "display_name": "Python 3",
   "language": "python",
   "name": "python3"
  },
  "language_info": {
   "codemirror_mode": {
    "name": "ipython",
    "version": 3
   },
   "file_extension": ".py",
   "mimetype": "text/x-python",
   "name": "python",
   "nbconvert_exporter": "python",
   "pygments_lexer": "ipython3",
   "version": "3.7.5"
  },
  "toc": {
   "base_numbering": 1,
   "nav_menu": {},
   "number_sections": true,
   "sideBar": true,
   "skip_h1_title": false,
   "title_cell": "Table of Contents",
   "title_sidebar": "Contents",
   "toc_cell": false,
   "toc_position": {},
   "toc_section_display": true,
   "toc_window_display": false
  },
  "varInspector": {
   "cols": {
    "lenName": 16,
    "lenType": 16,
    "lenVar": 40
   },
   "kernels_config": {
    "python": {
     "delete_cmd_postfix": "",
     "delete_cmd_prefix": "del ",
     "library": "var_list.py",
     "varRefreshCmd": "print(var_dic_list())"
    },
    "r": {
     "delete_cmd_postfix": ") ",
     "delete_cmd_prefix": "rm(",
     "library": "var_list.r",
     "varRefreshCmd": "cat(var_dic_list()) "
    }
   },
   "types_to_exclude": [
    "module",
    "function",
    "builtin_function_or_method",
    "instance",
    "_Feature"
   ],
   "window_display": false
  }
 },
 "nbformat": 4,
 "nbformat_minor": 2
}
